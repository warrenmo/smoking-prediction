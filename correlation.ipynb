{
 "cells": [
  {
   "cell_type": "code",
   "execution_count": 2,
   "metadata": {},
   "outputs": [],
   "source": [
    "%matplotlib inline\n",
    "import numpy as np\n",
    "import pandas as pd\n",
    "\n",
    "from collections import defaultdict\n",
    "\n",
    "from utils import *\n",
    "from config import X_TRAIN_MP, Y_TRAIN_PATH, UNDER_DIR, MASK_DIR, MODS_DIR"
   ]
  },
  {
   "cell_type": "code",
   "execution_count": 48,
   "metadata": {},
   "outputs": [],
   "source": [
    "X_train = read_csv_mp(X_TRAIN_MP, asarray=False)\n",
    "y_train = pd.read_csv(Y_TRAIN_PATH, header=None)"
   ]
  },
  {
   "cell_type": "code",
   "execution_count": 55,
   "metadata": {},
   "outputs": [],
   "source": [
    "var_thresholds = (0.1, 0.05)\n",
    "corr_thresholds = (0.7, 0.8, 0.9, 0.95)\n",
    "\n",
    "def save_corr_mask(corr, prefix, directory='var-corr', corr_thresholds=corr_thresholds, random_state=None, verbose=True):\n",
    "    for c in corr_thresholds:\n",
    "        if verbose:\n",
    "            print(f\"Beginning correlation threshold: {c:.2f}\")\n",
    "            \n",
    "        # TODO: use smarter correlation filtering method\n",
    "        mask = corr_filter_basic(corr, threshold=c)\n",
    "        save_mask(mask, directory, prefix, c, random_state=random_state)\n",
    "        #if verbose:\n",
    "        #    print(f\"Correlation threshold complete.\")\n",
    "\n",
    "def save_var_corr_mask(data, suffix, var_thresholds=var_thresholds, verbose=True, *args, **kwargs):\n",
    "    X = np.asarray(data) if type(data) is not np.ndarray else data\n",
    "    for i, v in enumerate(var_thresholds):\n",
    "        if verbose:\n",
    "            print(f\"BEGINNING VARIANCE THRESHOLD: {v:.3f}\")\n",
    "        mpath = mask_path('var', 'var', v)\n",
    "        var_mask = np.loadtxt(mpath, delimiter=',', dtype=bool)\n",
    "        corr = corrcoef(X[:,var_mask])\n",
    "        save_corr_mask(corr, mpath.stem+'_'+suffix, verbose=verbose, *args, **kwargs)\n",
    "        if verbose:\n",
    "            print(f\"VARIANCE THRESHOLD COMPLETE.\")\n",
    "        if i != len(var_thresholds) - 1:\n",
    "            print('')\n",
    "            \n",
    "def print_var_corr_num_features(suffix, var_thresholds=var_thresholds, corr_thresholds=corr_thresholds, random_state=random_state):\n",
    "    for i, v in enumerate(var_thresholds):\n",
    "        mpath = mask_path('var', 'var', v)\n",
    "        var_mask = np.loadtxt(mpath, delimiter=',', dtype=bool)\n",
    "        print(f\"Variance Threshold: {v:.2f}\\t\\tNumber of features: {np.sum(var_mask)}\")\n",
    "        for c in corr_thresholds:\n",
    "            mask = np.loadtxt(mask_path('var-corr', mpath.stem+'_'+suffix, c, random_state=random_state), delimiter=',', dtype=bool)\n",
    "            print(f\"Correlation Threshold: {c:.2f}\\t\\tNumber of features: {np.sum(mask)}\")\n",
    "        if i != len(var_thresholds)-1:\n",
    "            print('')"
   ]
  },
  {
   "cell_type": "markdown",
   "metadata": {},
   "source": [
    "# \"Vanilla\" data (no oversampling, undersampling)"
   ]
  },
  {
   "cell_type": "code",
   "execution_count": 26,
   "metadata": {},
   "outputs": [
    {
     "name": "stdout",
     "output_type": "stream",
     "text": [
      "BEGINNING VARIANCE THRESHOLD: 0.100\n",
      "Beginning correlation threshold: 0.70\n",
      "Beginning correlation threshold: 0.80\n",
      "Beginning correlation threshold: 0.90\n",
      "Beginning correlation threshold: 0.95\n",
      "VARIANCE THRESHOLD COMPLETE.\n",
      "\n",
      "BEGINNING VARIANCE THRESHOLD: 0.050\n",
      "Beginning correlation threshold: 0.70\n",
      "Beginning correlation threshold: 0.80\n",
      "Beginning correlation threshold: 0.90\n",
      "Beginning correlation threshold: 0.95\n",
      "VARIANCE THRESHOLD COMPLETE.\n",
      "\n"
     ]
    }
   ],
   "source": [
    "save_var_corr_mask(X_train, 'original')"
   ]
  },
  {
   "cell_type": "code",
   "execution_count": 42,
   "metadata": {},
   "outputs": [
    {
     "name": "stdout",
     "output_type": "stream",
     "text": [
      "Variance Threshold: 0.10\t\tNumber of features: 2670\n",
      "Correlation Threshold: 0.70\t\tNumber of features: 352\n",
      "Correlation Threshold: 0.80\t\tNumber of features: 412\n",
      "Correlation Threshold: 0.90\t\tNumber of features: 457\n",
      "Correlation Threshold: 0.95\t\tNumber of features: 469\n",
      "\n",
      "Variance Threshold: 0.05\t\tNumber of features: 9850\n",
      "Correlation Threshold: 0.70\t\tNumber of features: 1276\n",
      "Correlation Threshold: 0.80\t\tNumber of features: 1916\n",
      "Correlation Threshold: 0.90\t\tNumber of features: 2672\n",
      "Correlation Threshold: 0.95\t\tNumber of features: 2997\n"
     ]
    }
   ],
   "source": [
    "print_var_corr_num_features('original')"
   ]
  },
  {
   "cell_type": "markdown",
   "metadata": {},
   "source": [
    "# Oversampled data (3 classes)"
   ]
  },
  {
   "cell_type": "code",
   "execution_count": 49,
   "metadata": {},
   "outputs": [],
   "source": [
    "random_state = 0\n",
    "X_over, _ = oversample(X_train, y=y_train, random_state=random_state)"
   ]
  },
  {
   "cell_type": "code",
   "execution_count": 52,
   "metadata": {},
   "outputs": [
    {
     "name": "stdout",
     "output_type": "stream",
     "text": [
      "BEGINNING VARIANCE THRESHOLD: 0.100\n",
      "Beginning correlation threshold: 0.70\n",
      "Beginning correlation threshold: 0.80\n",
      "Beginning correlation threshold: 0.90\n",
      "Beginning correlation threshold: 0.95\n",
      "VARIANCE THRESHOLD COMPLETE.\n",
      "\n",
      "BEGINNING VARIANCE THRESHOLD: 0.050\n",
      "Beginning correlation threshold: 0.70\n",
      "Beginning correlation threshold: 0.80\n",
      "Beginning correlation threshold: 0.90\n",
      "Beginning correlation threshold: 0.95\n",
      "VARIANCE THRESHOLD COMPLETE.\n",
      "\n"
     ]
    }
   ],
   "source": [
    "save_var_corr_mask(X_over, 'over', random_state=random_state)"
   ]
  },
  {
   "cell_type": "code",
   "execution_count": 56,
   "metadata": {},
   "outputs": [
    {
     "name": "stdout",
     "output_type": "stream",
     "text": [
      "Variance Threshold: 0.10\t\tNumber of features: 2670\n",
      "Correlation Threshold: 0.70\t\tNumber of features: 276\n",
      "Correlation Threshold: 0.80\t\tNumber of features: 372\n",
      "Correlation Threshold: 0.90\t\tNumber of features: 454\n",
      "Correlation Threshold: 0.95\t\tNumber of features: 471\n",
      "\n",
      "Variance Threshold: 0.05\t\tNumber of features: 9850\n",
      "Correlation Threshold: 0.70\t\tNumber of features: 815\n",
      "Correlation Threshold: 0.80\t\tNumber of features: 1627\n",
      "Correlation Threshold: 0.90\t\tNumber of features: 2608\n",
      "Correlation Threshold: 0.95\t\tNumber of features: 3005\n"
     ]
    }
   ],
   "source": [
    "print_var_corr_num_features('over', random_state=random_state)"
   ]
  },
  {
   "cell_type": "markdown",
   "metadata": {},
   "source": [
    "# Undersampled data - splits (3 classes)"
   ]
  },
  {
   "cell_type": "code",
   "execution_count": 57,
   "metadata": {},
   "outputs": [],
   "source": [
    "def under_data_path(class_id, split_id, *, random_state):\n",
    "    return UNDER_DIR / f'random_{random_state}' / f'{class_id}' / f'{split_id}.csv'"
   ]
  },
  {
   "cell_type": "code",
   "execution_count": 58,
   "metadata": {},
   "outputs": [],
   "source": [
    "num_splits = 10\n",
    "random_state = 0\n",
    "splits = undersample_split(X_train, y=y_train, num_splits=num_splits, random_state=random_state)"
   ]
  },
  {
   "cell_type": "code",
   "execution_count": null,
   "metadata": {},
   "outputs": [],
   "source": [
    "thresholds = [0.7, 0.8, 0.9, 0.95]\n",
    "threshold_to_mask = defaultdict(list)\n",
    "\n",
    "for i, (X_under, _) in enumerate(splits):\n",
    "    print(f\"Beginning split: {i}\")\n",
    "    \n",
    "    ###### DELETE #####\n",
    "    # X_under = X_under.iloc[:,:10000]\n",
    "    \n",
    "    corr = corrcoef(X_under)\n",
    "    \n",
    "    for threshold in thresholds:\n",
    "        print(f\"Beginning threshold: {threshold}\")        \n",
    "        threshold_to_mask[threshold].append(corr_filter(corr, threshold=threshold))\n",
    "\n",
    "    print(f\"Split complete.\\n\")\n",
    "\n",
    "for threshold, mask_list in threshold_to_mask.items():\n",
    "    save_mask(np.column_stack(mask_list), 'var-corr', 'under', threshold, random_state=random_state)"
   ]
  },
  {
   "cell_type": "code",
   "execution_count": null,
   "metadata": {},
   "outputs": [],
   "source": [
    "for threshold in thresholds:\n",
    "    mask = np.loadtxt(mask_path('var-corr', 'under', threshold, random_state=random_state), delimiter=',', dtype=int)\n",
    "    mask_all = np.all(mask, axis=1)\n",
    "    print(f\"Threshold: {threshold:.2f}\\t\\tNumber of features: {np.sum(mask_all)}\")"
   ]
  },
  {
   "cell_type": "markdown",
   "metadata": {},
   "source": [
    "# Oversampled data (2 classes \\[merged smoker + former\\])"
   ]
  },
  {
   "cell_type": "code",
   "execution_count": 59,
   "metadata": {},
   "outputs": [],
   "source": [
    "random_state = 0\n",
    "y_merge = merge_classes(y_train, [1, 2], col=0)\n",
    "X_over, _ = oversample(X_train, y=y_merge, random_state=random_state)"
   ]
  },
  {
   "cell_type": "code",
   "execution_count": 60,
   "metadata": {},
   "outputs": [
    {
     "name": "stdout",
     "output_type": "stream",
     "text": [
      "BEGINNING VARIANCE THRESHOLD: 0.100\n",
      "Beginning correlation threshold: 0.70\n",
      "Beginning correlation threshold: 0.80\n",
      "Beginning correlation threshold: 0.90\n",
      "Beginning correlation threshold: 0.95\n",
      "VARIANCE THRESHOLD COMPLETE.\n",
      "\n",
      "BEGINNING VARIANCE THRESHOLD: 0.050\n",
      "Beginning correlation threshold: 0.70\n",
      "Beginning correlation threshold: 0.80\n",
      "Beginning correlation threshold: 0.90\n",
      "Beginning correlation threshold: 0.95\n",
      "VARIANCE THRESHOLD COMPLETE.\n"
     ]
    }
   ],
   "source": [
    "save_var_corr_mask(X_over, 'merged_over', random_state=random_state)"
   ]
  },
  {
   "cell_type": "code",
   "execution_count": 61,
   "metadata": {},
   "outputs": [
    {
     "name": "stdout",
     "output_type": "stream",
     "text": [
      "Variance Threshold: 0.10\t\tNumber of features: 2670\n",
      "Correlation Threshold: 0.70\t\tNumber of features: 338\n",
      "Correlation Threshold: 0.80\t\tNumber of features: 405\n",
      "Correlation Threshold: 0.90\t\tNumber of features: 459\n",
      "Correlation Threshold: 0.95\t\tNumber of features: 469\n",
      "\n",
      "Variance Threshold: 0.05\t\tNumber of features: 9850\n",
      "Correlation Threshold: 0.70\t\tNumber of features: 1225\n",
      "Correlation Threshold: 0.80\t\tNumber of features: 1886\n",
      "Correlation Threshold: 0.90\t\tNumber of features: 2657\n",
      "Correlation Threshold: 0.95\t\tNumber of features: 2980\n"
     ]
    }
   ],
   "source": [
    "print_var_corr_num_features('merged_over', random_state=random_state)"
   ]
  },
  {
   "cell_type": "markdown",
   "metadata": {},
   "source": [
    "# Undersampled data (2 classes)"
   ]
  },
  {
   "cell_type": "code",
   "execution_count": 62,
   "metadata": {},
   "outputs": [],
   "source": [
    "random_state = 0\n",
    "y_merge = merge_classes(y_train, [1, 2], col=0)\n",
    "X_under, _ = undersample(X_train, y=y_merge, random_state=random_state)"
   ]
  },
  {
   "cell_type": "code",
   "execution_count": 63,
   "metadata": {},
   "outputs": [
    {
     "name": "stdout",
     "output_type": "stream",
     "text": [
      "BEGINNING VARIANCE THRESHOLD: 0.100\n",
      "Beginning correlation threshold: 0.70\n",
      "Beginning correlation threshold: 0.80\n",
      "Beginning correlation threshold: 0.90\n",
      "Beginning correlation threshold: 0.95\n",
      "VARIANCE THRESHOLD COMPLETE.\n",
      "\n",
      "BEGINNING VARIANCE THRESHOLD: 0.050\n",
      "Beginning correlation threshold: 0.70\n",
      "Beginning correlation threshold: 0.80\n",
      "Beginning correlation threshold: 0.90\n",
      "Beginning correlation threshold: 0.95\n",
      "VARIANCE THRESHOLD COMPLETE.\n"
     ]
    }
   ],
   "source": [
    "save_var_corr_mask(X_under, 'merged_under', random_state=random_state)"
   ]
  },
  {
   "cell_type": "code",
   "execution_count": 64,
   "metadata": {},
   "outputs": [
    {
     "name": "stdout",
     "output_type": "stream",
     "text": [
      "Variance Threshold: 0.10\t\tNumber of features: 2670\n",
      "Correlation Threshold: 0.70\t\tNumber of features: 334\n",
      "Correlation Threshold: 0.80\t\tNumber of features: 396\n",
      "Correlation Threshold: 0.90\t\tNumber of features: 454\n",
      "Correlation Threshold: 0.95\t\tNumber of features: 469\n",
      "\n",
      "Variance Threshold: 0.05\t\tNumber of features: 9850\n",
      "Correlation Threshold: 0.70\t\tNumber of features: 1291\n",
      "Correlation Threshold: 0.80\t\tNumber of features: 1933\n",
      "Correlation Threshold: 0.90\t\tNumber of features: 2664\n",
      "Correlation Threshold: 0.95\t\tNumber of features: 3000\n"
     ]
    }
   ],
   "source": [
    "print_var_corr_num_features('merged_under', random_state=random_state)"
   ]
  }
 ],
 "metadata": {
  "kernelspec": {
   "display_name": "Environment (conda_anaconda3)",
   "language": "python",
   "name": "conda_anaconda3"
  },
  "language_info": {
   "codemirror_mode": {
    "name": "ipython",
    "version": 3
   },
   "file_extension": ".py",
   "mimetype": "text/x-python",
   "name": "python",
   "nbconvert_exporter": "python",
   "pygments_lexer": "ipython3",
   "version": "3.7.6"
  }
 },
 "nbformat": 4,
 "nbformat_minor": 4
}
