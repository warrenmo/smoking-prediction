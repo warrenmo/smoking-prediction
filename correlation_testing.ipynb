{
 "cells": [
  {
   "cell_type": "code",
   "execution_count": 1,
   "metadata": {},
   "outputs": [],
   "source": [
    "%matplotlib inline\n",
    "import numpy as np\n",
    "import pandas as pd\n",
    "\n",
    "from sklearn.ensemble import RandomForestClassifier\n",
    "from sklearn.feature_selection import SelectKBest, chi2, f_classif, mutual_info_classif, SelectFromModel\n",
    "\n",
    "from utils import read_csv_mp, oversample, CorrCoefChunk\n",
    "from config import X_TRAIN_MP, Y_TRAIN_PATH"
   ]
  },
  {
   "cell_type": "markdown",
   "metadata": {},
   "source": [
    "# Correlation coefficient matrix calculation (oversampled data)"
   ]
  },
  {
   "cell_type": "code",
   "execution_count": 2,
   "metadata": {},
   "outputs": [],
   "source": [
    "random_state = 0\n",
    "X = read_csv_mp(X_TRAIN_MP, asarray=True)\n",
    "y = pd.read_csv(Y_TRAIN_PATH, header=None)\n",
    "#X_over, _ = oversample(X, y, random_state=random_state)"
   ]
  },
  {
   "cell_type": "code",
   "execution_count": null,
   "metadata": {},
   "outputs": [],
   "source": [
    "X.shape"
   ]
  },
  {
   "cell_type": "code",
   "execution_count": null,
   "metadata": {},
   "outputs": [],
   "source": [
    "X_over.iloc[:,-1]"
   ]
  },
  {
   "cell_type": "markdown",
   "metadata": {},
   "source": [
    "## Single matrix"
   ]
  },
  {
   "cell_type": "code",
   "execution_count": 16,
   "metadata": {},
   "outputs": [],
   "source": [
    "def corrcoef(m):\n",
    "    A = np.asarray(m)\n",
    "    A -= np.average(A, axis=0)[None,:]   \n",
    "    c = np.dot(A.T, A)        \n",
    "    stdev = np.sqrt(np.diag(c))\n",
    "    corr = c / stdev[:,None] / stdev[None,:]\n",
    "    return corr\n",
    "\n",
    "def corrcoef_ein(m):\n",
    "    A = np.asarray(m)\n",
    "    A -= np.einsum('np->p', A, optimize=True) / np.float32(A.shape[0])\n",
    "    c = np.einsum('nq,np->qp', A, A, optimize=True)\n",
    "    stdev = np.sqrt(np.einsum('pp->p', c, optimize=True))\n",
    "    corr = c / stdev[:,None] / stdev[None,:]\n",
    "    return corr"
   ]
  },
  {
   "cell_type": "code",
   "execution_count": 77,
   "metadata": {},
   "outputs": [
    {
     "data": {
      "text/plain": [
       "True"
      ]
     },
     "execution_count": 77,
     "metadata": {},
     "output_type": "execute_result"
    }
   ],
   "source": [
    "corr = corrcoef(X_over.iloc[:,:10000])\n",
    "corr_ein = corrcoef_ein(X_over.iloc[:,:10000])\n",
    "corr_np = np.corrcoef(X_over.iloc[:,:10000], rowvar=False)\n",
    "\n",
    "np.allclose(corr_np, corr, atol=0.000001) and np.allclose(corr_np, corr_ein, atol=0.000001)"
   ]
  },
  {
   "cell_type": "markdown",
   "metadata": {},
   "source": [
    "#### corrcoef()"
   ]
  },
  {
   "cell_type": "code",
   "execution_count": 18,
   "metadata": {},
   "outputs": [
    {
     "name": "stdout",
     "output_type": "stream",
     "text": [
      "1.08 s ± 11.5 ms per loop (mean ± std. dev. of 7 runs, 1 loop each)\n"
     ]
    }
   ],
   "source": [
    "%timeit corrcoef(X[:,:10000])"
   ]
  },
  {
   "cell_type": "code",
   "execution_count": 80,
   "metadata": {},
   "outputs": [
    {
     "name": "stdout",
     "output_type": "stream",
     "text": [
      "3.77 s ± 17.2 ms per loop (mean ± std. dev. of 7 runs, 1 loop each)\n"
     ]
    }
   ],
   "source": [
    "%timeit corrcoef(X_over.iloc[:,:20000])"
   ]
  },
  {
   "cell_type": "markdown",
   "metadata": {},
   "source": [
    "#### corrcoef_ein()"
   ]
  },
  {
   "cell_type": "code",
   "execution_count": 81,
   "metadata": {},
   "outputs": [
    {
     "name": "stdout",
     "output_type": "stream",
     "text": [
      "1.32 s ± 135 ms per loop (mean ± std. dev. of 7 runs, 1 loop each)\n"
     ]
    }
   ],
   "source": [
    "%timeit corrcoef_ein(X_over.iloc[:,:10000])"
   ]
  },
  {
   "cell_type": "code",
   "execution_count": 82,
   "metadata": {},
   "outputs": [
    {
     "name": "stdout",
     "output_type": "stream",
     "text": [
      "3.77 s ± 8.6 ms per loop (mean ± std. dev. of 7 runs, 1 loop each)\n"
     ]
    }
   ],
   "source": [
    "%timeit corrcoef_ein(X_over.iloc[:,:20000])"
   ]
  },
  {
   "cell_type": "markdown",
   "metadata": {},
   "source": [
    "#### np.corrcoef()"
   ]
  },
  {
   "cell_type": "code",
   "execution_count": 83,
   "metadata": {},
   "outputs": [
    {
     "name": "stdout",
     "output_type": "stream",
     "text": [
      "1.93 s ± 3.96 ms per loop (mean ± std. dev. of 7 runs, 1 loop each)\n"
     ]
    }
   ],
   "source": [
    "%timeit np.corrcoef(X_over.iloc[:,:10000], rowvar=False)"
   ]
  },
  {
   "cell_type": "code",
   "execution_count": 84,
   "metadata": {},
   "outputs": [
    {
     "name": "stdout",
     "output_type": "stream",
     "text": [
      "7.6 s ± 203 ms per loop (mean ± std. dev. of 7 runs, 1 loop each)\n"
     ]
    }
   ],
   "source": [
    "%timeit np.corrcoef(X_over.iloc[:,:20000], rowvar=False)"
   ]
  },
  {
   "cell_type": "markdown",
   "metadata": {},
   "source": [
    "## Two matrices"
   ]
  },
  {
   "cell_type": "code",
   "execution_count": 85,
   "metadata": {},
   "outputs": [],
   "source": [
    "def two_mat_corrcoef(m1, m2):\n",
    "    A = np.asarray(m1)\n",
    "    B = np.asarray(m2)\n",
    "    \n",
    "    A -= np.average(A, axis=0)\n",
    "    B -= np.average(B, axis=0)\n",
    "    \n",
    "    c = np.dot(B.T, A)\n",
    "    \n",
    "    ssq_A = np.sum(np.square(A), axis=0)\n",
    "    ssq_B = np.sum(np.square(B), axis=0)\n",
    "    norm = np.sqrt(np.outer(ssq_B, ssq_A))    \n",
    "    return c / norm\n",
    "\n",
    "def two_mat_corrcoef_ein(m1, m2, float32=False):\n",
    "    A = np.asarray(m1)\n",
    "    B = np.asarray(m2)\n",
    "    \n",
    "    A -= np.einsum('np->p', A, optimize=True) / np.float32(A.shape[0])\n",
    "    B -= np.einsum('nq->q', B, optimize=True) / np.float32(B.shape[0]) # A.shape[0] should be equal to B.shape[0]\n",
    "    c = np.einsum('nq,np->qp', B, A, optimize=True)\n",
    "    \n",
    "    ssq_A = np.einsum('np,np->p', A, A, optimize=True)\n",
    "    ssq_B = np.einsum('nq,nq->q', B, B, optimize=True)\n",
    "    norm = np.sqrt(np.outer(ssq_B, ssq_A))  \n",
    "    return c / norm"
   ]
  },
  {
   "cell_type": "code",
   "execution_count": 86,
   "metadata": {},
   "outputs": [
    {
     "data": {
      "text/plain": [
       "True"
      ]
     },
     "execution_count": 86,
     "metadata": {},
     "output_type": "execute_result"
    }
   ],
   "source": [
    "two_mat = two_mat_corrcoef(X_over.iloc[:,:1000], X_over.iloc[:,1000:1500])\n",
    "two_mat_ein = two_mat_corrcoef_ein(X_over.iloc[:,:1000], X_over.iloc[:,1000:1500])\n",
    "two_mat_np = np.corrcoef(X_over.iloc[:,:1500], rowvar=False)[1000:1500,:1000]\n",
    "\n",
    "np.allclose(two_mat_np, two_mat, atol=0.000001) and np.allclose(two_mat_np, two_mat_ein, atol=0.000001)"
   ]
  },
  {
   "cell_type": "markdown",
   "metadata": {},
   "source": [
    "#### two_mat_corrcoef()"
   ]
  },
  {
   "cell_type": "code",
   "execution_count": 89,
   "metadata": {},
   "outputs": [
    {
     "name": "stdout",
     "output_type": "stream",
     "text": [
      "1.19 s ± 3.24 ms per loop (mean ± std. dev. of 7 runs, 1 loop each)\n"
     ]
    }
   ],
   "source": [
    "%timeit two_mat_corrcoef(X_over.iloc[:,:10000], X_over.iloc[:,10000:20000])"
   ]
  },
  {
   "cell_type": "markdown",
   "metadata": {},
   "source": [
    "#### two_mat_corrcoef_ein()"
   ]
  },
  {
   "cell_type": "code",
   "execution_count": 90,
   "metadata": {},
   "outputs": [
    {
     "name": "stdout",
     "output_type": "stream",
     "text": [
      "1.47 s ± 4.77 ms per loop (mean ± std. dev. of 7 runs, 1 loop each)\n"
     ]
    }
   ],
   "source": [
    "%timeit two_mat_corrcoef_ein(X_over.iloc[:,:10000], X_over.iloc[:,10000:20000], float32=True)"
   ]
  },
  {
   "cell_type": "markdown",
   "metadata": {},
   "source": [
    "#### np.corrcoef() (for-loop)"
   ]
  },
  {
   "cell_type": "code",
   "execution_count": 91,
   "metadata": {},
   "outputs": [
    {
     "name": "stdout",
     "output_type": "stream",
     "text": [
      "7.24 s ± 311 ms per loop (mean ± std. dev. of 7 runs, 1 loop each)\n"
     ]
    }
   ],
   "source": [
    "%%timeit\n",
    "for i in range(1, 20000):\n",
    "    np.corrcoef(X_over.iloc[:,0], X_over.iloc[:,i], rowvar=False)"
   ]
  },
  {
   "cell_type": "markdown",
   "metadata": {},
   "source": [
    "#### np.corrcoef()"
   ]
  },
  {
   "cell_type": "code",
   "execution_count": 92,
   "metadata": {},
   "outputs": [
    {
     "name": "stdout",
     "output_type": "stream",
     "text": [
      "7.7 s ± 263 ms per loop (mean ± std. dev. of 7 runs, 1 loop each)\n"
     ]
    }
   ],
   "source": [
    "%timeit np.corrcoef(X_over.iloc[:,:10000], X_over.iloc[:,10000:20000], rowvar=False)"
   ]
  },
  {
   "cell_type": "markdown",
   "metadata": {},
   "source": [
    "# Chunking"
   ]
  },
  {
   "cell_type": "code",
   "execution_count": 95,
   "metadata": {},
   "outputs": [],
   "source": [
    "def corr_filter_basic(X, threshold=0.9):\n",
    "    corr = np.abs(corrcoef(X))\n",
    "    mask = np.all(np.triu(corr, k=1) < threshold, axis=0)\n",
    "    return mask\n",
    "\n",
    "def corr_filter_chunk(X, chunk_size=20000, col_mask=None, threshold=0.9, verbose=False):\n",
    "    if col_mask is None:\n",
    "        col_mask = np.full((X.shape[1],), True, dtype=bool)\n",
    "        \n",
    "    for i in range(0, X.shape[1], chunk_size):\n",
    "        if verbose:\n",
    "            print(f\"Processing features {i}-{min(i+chunk_size-1, X.shape[1]-1)}.\")\n",
    "        col_mask[i:i+chunk_size] = corr_filter(X.iloc[:, i:i+chunk_size], threshold=threshold)\n",
    "    return col_mask"
   ]
  },
  {
   "cell_type": "code",
   "execution_count": 96,
   "metadata": {},
   "outputs": [
    {
     "name": "stdout",
     "output_type": "stream",
     "text": [
      "Processing features 0-19999.\n",
      "Processing features 20000-39999.\n",
      "Processing features 40000-59999.\n",
      "Processing features 60000-79999.\n",
      "Processing features 80000-99999.\n",
      "Processing features 100000-119999.\n",
      "Processing features 120000-139999.\n",
      "Processing features 140000-159999.\n",
      "Processing features 160000-179999.\n",
      "Processing features 180000-199999.\n",
      "Processing features 200000-219999.\n",
      "Processing features 220000-239999.\n",
      "Processing features 240000-259999.\n",
      "Processing features 260000-279999.\n",
      "Processing features 280000-299999.\n",
      "Processing features 300000-319999.\n",
      "Processing features 320000-339999.\n",
      "Processing features 340000-359999.\n",
      "Processing features 360000-379999.\n",
      "Processing features 380000-399999.\n",
      "Processing features 400000-419999.\n",
      "Processing features 420000-439999.\n",
      "Processing features 440000-459999.\n",
      "Processing features 460000-479999.\n",
      "Processing features 480000-482739.\n"
     ]
    }
   ],
   "source": [
    "mask_9 = corr_filter_chunk(X_over, verbose=True)"
   ]
  },
  {
   "cell_type": "code",
   "execution_count": 98,
   "metadata": {},
   "outputs": [
    {
     "name": "stdout",
     "output_type": "stream",
     "text": [
      "8.58 s ± 187 ms per loop (mean ± std. dev. of 7 runs, 1 loop each)\n"
     ]
    }
   ],
   "source": [
    "%timeit corr_filter_chunk(X_over.iloc[:,:60000], chunk_size=10000)"
   ]
  },
  {
   "cell_type": "markdown",
   "metadata": {},
   "source": [
    "### old"
   ]
  },
  {
   "cell_type": "code",
   "execution_count": 19,
   "metadata": {},
   "outputs": [],
   "source": [
    "# col_mask = [True] * X_over.shape[1]\n",
    "# for i in range(X_over.shape[1]-1):\n",
    "#     if i % 1000 == 0:\n",
    "#         print(f'Iteration complete:\\t{i}')\n",
    "#     if not col_mask[i]:\n",
    "#         continue\n",
    "#     for j in range(i+1, X_over.shape[1]):\n",
    "#         if not col_mask[j]:\n",
    "#             continue\n",
    "#         corr = abs(np.corrcoef(X_over.iloc[:,i], X_over.iloc[:,j], rowvar=False)[0,1])\n",
    "#         if corr > 0.9:\n",
    "#             col_mask[j] = False\n",
    "#         if (j-i) % 10000 == 0:\n",
    "#             print(f'Sub-iteration complete:\\t{j-i}')"
   ]
  },
  {
   "cell_type": "code",
   "execution_count": 60,
   "metadata": {},
   "outputs": [],
   "source": [
    "def corr_filter(X, *, threshold, stop):\n",
    "    corr = np.abs(corrcoef(X))\n",
    "    avg_corr = np.average(corr, axis=0).tolist()\n",
    "    if stop==0:\n",
    "        return\n",
    "    indices = np.argwhere(np.triu(corr, k=1) > threshold)\n",
    "    if len(indices) == 0:\n",
    "        return [True] * X.shape[1]\n",
    "    if stop==1:\n",
    "        return\n",
    "    #vec = np.vectorize(avg_corr.__getitem__)(indices)\n",
    "    u, inv = np.unique(indices, return_inverse=True)\n",
    "    vec = np.array([avg_corr[x] for x in u])[inv].reshape(indices.shape)\n",
    "    if stop == 2:\n",
    "        return\n",
    "    ind = np.argmax(vec, axis=1)\n",
    "    if stop==3:\n",
    "        return ind\n",
    "    maybe_drop = indices[np.arange(indices.shape[0]), ind]\n",
    "    return maybe_drop\n",
    "\n"
   ]
  },
  {
   "cell_type": "code",
   "execution_count": 47,
   "metadata": {},
   "outputs": [
    {
     "name": "stdout",
     "output_type": "stream",
     "text": [
      "1.17 s ± 22.3 ms per loop (mean ± std. dev. of 7 runs, 1 loop each)\n"
     ]
    }
   ],
   "source": [
    "%timeit corr_filter(X[:,:10000], threshold=0.5, stop=0)"
   ]
  },
  {
   "cell_type": "code",
   "execution_count": 48,
   "metadata": {},
   "outputs": [
    {
     "name": "stdout",
     "output_type": "stream",
     "text": [
      "2.42 s ± 20.5 ms per loop (mean ± std. dev. of 7 runs, 1 loop each)\n"
     ]
    }
   ],
   "source": [
    "%timeit corr_filter(X[:,:10000], threshold=0.5, stop=1)"
   ]
  },
  {
   "cell_type": "code",
   "execution_count": 61,
   "metadata": {},
   "outputs": [
    {
     "name": "stdout",
     "output_type": "stream",
     "text": [
      "8.51 s ± 36.1 ms per loop (mean ± std. dev. of 7 runs, 1 loop each)\n"
     ]
    }
   ],
   "source": [
    "%timeit corr_filter(X[:,:10000], threshold=0.5, stop=2)"
   ]
  },
  {
   "cell_type": "code",
   "execution_count": 58,
   "metadata": {},
   "outputs": [
    {
     "name": "stdout",
     "output_type": "stream",
     "text": [
      "9.5 s ± 24.3 ms per loop (mean ± std. dev. of 7 runs, 1 loop each)\n"
     ]
    }
   ],
   "source": [
    "%timeit corr_filter(X[:,:10000], threshold=0.5, stop=3)"
   ]
  },
  {
   "cell_type": "code",
   "execution_count": 59,
   "metadata": {},
   "outputs": [
    {
     "name": "stdout",
     "output_type": "stream",
     "text": [
      "9.85 s ± 17 ms per loop (mean ± std. dev. of 7 runs, 1 loop each)\n"
     ]
    }
   ],
   "source": [
    "%timeit corr_filter(X[:,:10000], threshold=0.5, stop=4)"
   ]
  },
  {
   "cell_type": "markdown",
   "metadata": {},
   "source": [
    "# np.corrcoef (v 1.20)"
   ]
  },
  {
   "cell_type": "code",
   "execution_count": 13,
   "metadata": {},
   "outputs": [],
   "source": [
    "def cov(m, y=None, rowvar=True, bias=False, ddof=None, fweights=None,\n",
    "        aweights=None, *, dtype=None):\n",
    "    # Check inputs\n",
    "    if ddof is not None and ddof != int(ddof):\n",
    "        raise ValueError(\n",
    "            \"ddof must be integer\")\n",
    "\n",
    "    # Handles complex arrays too\n",
    "    m = np.asarray(m)\n",
    "    if m.ndim > 2:\n",
    "        raise ValueError(\"m has more than 2 dimensions\")\n",
    "\n",
    "    if y is not None:\n",
    "        y = np.asarray(y)\n",
    "        if y.ndim > 2:\n",
    "            raise ValueError(\"y has more than 2 dimensions\")\n",
    "\n",
    "    if dtype is None:\n",
    "        if y is None:\n",
    "            dtype = np.result_type(m, np.float64)\n",
    "        else:\n",
    "            dtype = np.result_type(m, y, np.float64)\n",
    "\n",
    "    X = np.array(m, ndmin=2, dtype=dtype)\n",
    "    if not rowvar and X.shape[0] != 1:\n",
    "        X = X.T\n",
    "    if X.shape[0] == 0:\n",
    "        return np.array([]).reshape(0, 0)\n",
    "    if y is not None:\n",
    "        y = np.array(y, copy=False, ndmin=2, dtype=dtype)\n",
    "        if not rowvar and y.shape[0] != 1:\n",
    "            y = y.T\n",
    "        X = np.concatenate((X, y), axis=0)\n",
    "\n",
    "    if ddof is None:\n",
    "        if bias == 0:\n",
    "            ddof = 1\n",
    "        else:\n",
    "            ddof = 0\n",
    "\n",
    "    # Get the product of frequencies and weights\n",
    "    w = None\n",
    "    if fweights is not None:\n",
    "        fweights = np.asarray(fweights, dtype=float)\n",
    "        if not np.all(fweights == np.around(fweights)):\n",
    "            raise TypeError(\n",
    "                \"fweights must be integer\")\n",
    "        if fweights.ndim > 1:\n",
    "            raise RuntimeError(\n",
    "                \"cannot handle multidimensional fweights\")\n",
    "        if fweights.shape[0] != X.shape[1]:\n",
    "            raise RuntimeError(\n",
    "                \"incompatible numbers of samples and fweights\")\n",
    "        if any(fweights < 0):\n",
    "            raise ValueError(\n",
    "                \"fweights cannot be negative\")\n",
    "        w = fweights\n",
    "    if aweights is not None:\n",
    "        aweights = np.asarray(aweights, dtype=float)\n",
    "        if aweights.ndim > 1:\n",
    "            raise RuntimeError(\n",
    "                \"cannot handle multidimensional aweights\")\n",
    "        if aweights.shape[0] != X.shape[1]:\n",
    "            raise RuntimeError(\n",
    "                \"incompatible numbers of samples and aweights\")\n",
    "        if any(aweights < 0):\n",
    "            raise ValueError(\n",
    "                \"aweights cannot be negative\")\n",
    "        if w is None:\n",
    "            w = aweights\n",
    "        else:\n",
    "            w *= aweights\n",
    "\n",
    "    avg, w_sum = np.average(X, axis=1, weights=w, returned=True)\n",
    "    w_sum = w_sum[0]\n",
    "\n",
    "    # Determine the normalization\n",
    "    if w is None:\n",
    "        fact = X.shape[1] - ddof\n",
    "    elif ddof == 0:\n",
    "        fact = w_sum\n",
    "    elif aweights is None:\n",
    "        fact = w_sum - ddof\n",
    "    else:\n",
    "        fact = w_sum - ddof*sum(w*aweights)/w_sum\n",
    "\n",
    "    if fact <= 0:\n",
    "        warnings.warn(\"Degrees of freedom <= 0 for slice\",\n",
    "                      RuntimeWarning, stacklevel=3)\n",
    "        fact = 0.0\n",
    "\n",
    "    X -= avg[:, None]\n",
    "    if w is None:\n",
    "        X_T = X.T\n",
    "    else:\n",
    "        X_T = (X*w).T\n",
    "    c = np.dot(X, X_T.conj())\n",
    "    c *= np.true_divide(1, fact)\n",
    "    return c.squeeze()\n",
    "\n",
    "def corrcoef(x, y=None, rowvar=True, bias=np._NoValue, ddof=np._NoValue, *,\n",
    "             dtype=None):\n",
    "    if bias is not np._NoValue or ddof is not np._NoValue:\n",
    "        # 2015-03-15, 1.10\n",
    "        warnings.warn('bias and ddof have no effect and are deprecated',\n",
    "                      DeprecationWarning, stacklevel=3)\n",
    "    c = cov(x, y, rowvar, dtype=dtype)\n",
    "    try:\n",
    "        d = np.diag(c)\n",
    "    except ValueError:\n",
    "        # scalar covariance\n",
    "        # nan if incorrect value (nan, inf, 0), 1 otherwise\n",
    "        return c / c\n",
    "    stddev = np.sqrt(d.real)\n",
    "    c /= stddev[:, None]\n",
    "    c /= stddev[None, :]\n",
    "\n",
    "    # Clip real and imaginary parts to [-1, 1].  This does not guarantee\n",
    "    # abs(a[i,j]) <= 1 for complex arrays, but is the best we can do without\n",
    "    # excessive work.\n",
    "    np.clip(c.real, -1, 1, out=c.real)\n",
    "    if np.iscomplexobj(c):\n",
    "        np.clip(c.imag, -1, 1, out=c.imag)\n",
    "\n",
    "    return c"
   ]
  },
  {
   "cell_type": "code",
   "execution_count": 15,
   "metadata": {},
   "outputs": [
    {
     "name": "stdout",
     "output_type": "stream",
     "text": [
      "968 ms ± 8.94 ms per loop (mean ± std. dev. of 7 runs, 1 loop each)\n"
     ]
    }
   ],
   "source": [
    "%timeit corrcoef(X[:,:10000], rowvar=False, dtype=np.float32)"
   ]
  },
  {
   "cell_type": "code",
   "execution_count": null,
   "metadata": {},
   "outputs": [],
   "source": []
  }
 ],
 "metadata": {
  "kernelspec": {
   "display_name": "Environment (conda_anaconda3)",
   "language": "python",
   "name": "conda_anaconda3"
  },
  "language_info": {
   "codemirror_mode": {
    "name": "ipython",
    "version": 3
   },
   "file_extension": ".py",
   "mimetype": "text/x-python",
   "name": "python",
   "nbconvert_exporter": "python",
   "pygments_lexer": "ipython3",
   "version": "3.7.6"
  }
 },
 "nbformat": 4,
 "nbformat_minor": 4
}
